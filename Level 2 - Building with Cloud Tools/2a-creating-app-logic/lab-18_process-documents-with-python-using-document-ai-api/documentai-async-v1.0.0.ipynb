{
 "cells": [
  {
   "cell_type": "markdown",
   "metadata": {
    "id": "L0J138mj7p1s"
   },
   "source": [
    "# Document AI Asynchronous API\n",
    "This notebook shows you how use Python to make asynchronous calls to the Document AI API"
   ]
  },
  {
   "cell_type": "markdown",
   "metadata": {},
   "source": [
    "You must replace the `processor_id` variable value in the the second cell with the appropriate value for the Processor ID of the Document AI processor that you want to use. The processor may not support all of the Document AI output properties. Entity data is only returned by processors that use specialized parsers for example. "
   ]
  },
  {
   "cell_type": "code",
   "execution_count": 1,
   "metadata": {
    "id": "Y8eO6Kcp7v2x"
   },
   "outputs": [],
   "source": [
    "# Import Libraries\n",
    "from google.cloud import documentai_v1beta3 as documentai\n",
    "from google.cloud import storage\n",
    "from prettytable import PrettyTable\n",
    "\n",
    "import re\n",
    "import os\n",
    "import pandas as pd\n"
   ]
  },
  {
   "cell_type": "code",
   "execution_count": 2,
   "metadata": {},
   "outputs": [],
   "source": [
    "# Set your Processor ID\n",
    "processor_id = \"7b55c435adb3e2de\"  # TODO: Replace with a valid Processor ID "
   ]
  },
  {
   "cell_type": "code",
   "execution_count": 3,
   "metadata": {
    "id": "k3c1mTa6IOk3"
   },
   "outputs": [],
   "source": [
    "# Set your variables\n",
    "project_id = %system gcloud config get-value core/project\n",
    "project_id = project_id[0]\n",
    "location = 'us'           # Replace with 'eu' if processor does not use 'us' location\n",
    "gcs_input_bucket  = project_id+\"_doc_ai_async\"   # Bucket name only, no gs:// prefix\n",
    "gcs_input_prefix  = \"input/\"                     # Input bucket folder e.g. input/\n",
    "gcs_output_bucket = project_id+\"_doc_ai_async\"   # Bucket name only, no gs:// prefix\n",
    "gcs_output_prefix = \"output/\"                    # Input bucket folder e.g. output/\n",
    "timeout = 300"
   ]
  },
  {
   "cell_type": "code",
   "execution_count": 4,
   "metadata": {},
   "outputs": [],
   "source": [
    "# Define Google Cloud client objects\n",
    "client_options = {\"api_endpoint\": \"{}-documentai.googleapis.com\".format(location)}\n",
    "client = documentai.DocumentProcessorServiceClient(client_options=client_options)\n",
    "storage_client = storage.Client()"
   ]
  },
  {
   "cell_type": "code",
   "execution_count": 5,
   "metadata": {},
   "outputs": [
    {
     "name": "stdout",
     "output_type": "stream",
     "text": [
      "Input Files:\n",
      "gs://qwiklabs-gcp-03-b8c9b73a1a12_doc_ai_async/input/google_invoice.pdf\n",
      "gs://qwiklabs-gcp-03-b8c9b73a1a12_doc_ai_async/input/office-depot-receipt.pdf\n"
     ]
    }
   ],
   "source": [
    "# Create input configuration\n",
    "blobs = storage_client.list_blobs(gcs_input_bucket, prefix=gcs_input_prefix)\n",
    "input_configs = []\n",
    "print(\"Input Files:\")\n",
    "for blob in blobs:\n",
    "    if \".pdf\" in blob.name:\n",
    "        source = \"gs://{bucket}/{name}\".format(bucket = gcs_input_bucket, name = blob.name)\n",
    "        print(source)\n",
    "        input_config = documentai.types.document_processor_service.BatchProcessRequest.BatchInputConfig(\n",
    "            gcs_source=source, mime_type=\"application/pdf\"\n",
    "        )\n",
    "        input_configs.append(input_config)\n"
   ]
  },
  {
   "cell_type": "code",
   "execution_count": 6,
   "metadata": {},
   "outputs": [],
   "source": [
    "# Create output configuration\n",
    "destination_uri = f\"gs://{gcs_output_bucket}/{gcs_output_prefix}\"\n",
    "output_config = documentai.types.document_processor_service.BatchProcessRequest.BatchOutputConfig(\n",
    "    gcs_destination=destination_uri\n",
    ")"
   ]
  },
  {
   "cell_type": "code",
   "execution_count": 7,
   "metadata": {},
   "outputs": [],
   "source": [
    "# Create the Document AI API request\n",
    "name = f\"projects/{project_id}/locations/{location}/processors/{processor_id}\"\n",
    "request = documentai.types.document_processor_service.BatchProcessRequest(\n",
    "    name=name,\n",
    "    input_configs=input_configs,\n",
    "    output_config=output_config,\n",
    ")\n"
   ]
  },
  {
   "cell_type": "code",
   "execution_count": 8,
   "metadata": {},
   "outputs": [
    {
     "name": "stdout",
     "output_type": "stream",
     "text": [
      "Batch process  completed.\n"
     ]
    }
   ],
   "source": [
    "# Start the batch (asynchronous) API operation \n",
    "operation = client.batch_process_documents(request)\n",
    "# Wait for the operation to finish\n",
    "operation.result(timeout=timeout)\n",
    "print (\"Batch process  completed.\")"
   ]
  },
  {
   "cell_type": "code",
   "execution_count": 9,
   "metadata": {},
   "outputs": [],
   "source": [
    "# Fetch list of output files\n",
    "match = re.match(r\"gs://([^/]+)/(.+)\", destination_uri)\n",
    "output_bucket = match.group(1)\n",
    "prefix = match.group(2)\n",
    "bucket = storage_client.get_bucket(output_bucket)\n",
    "blob_list = list(bucket.list_blobs(prefix=prefix))"
   ]
  },
  {
   "cell_type": "code",
   "execution_count": 10,
   "metadata": {},
   "outputs": [
    {
     "name": "stdout",
     "output_type": "stream",
     "text": [
      "Fetched file 1:output/4869069084488981550/0/google_invoice-0.json\n",
      "Text Data:\n",
      " Google\n",
      "INVOICE\n",
      "# 23413561D\n",
      "John Smith\n",
      "Bill To:\n",
      "Date:\n",
      "Sep 24, 2019\n",
      "Due Date:\n",
      "Sep 30, 2019\n",
      "Jane Smith,\n",
      "1600 Amphitheatre Pkway\n",
      "Mountain View, CA 94043\n",
      "Balance Due:\n",
      "$4,647.68\n",
      "Item\n",
      "Quantity\n",
      "Rate\n",
      "Amount\n",
      "12 ft HDMI cable\n",
      "12\n",
      "$9.99\n",
      "$119.88\n",
      "27\" Computer Monitor\n",
      "12\n",
      "$399.99\n",
      "$4,799.88\n",
      "Ergonomic Keyboard\n",
      "12\n",
      "$59.99\n",
      "$719.88\n",
      "22222-\n",
      "Optical mouse\n",
      "12\n",
      "$19.99\n",
      "$239.88\n",
      "Laptop\n",
      "12\n",
      "$1,299.99\n",
      "$15,599.88\n",
      "Misc processing fees\n",
      "1\n",
      "$899.99\n",
      "$899.99\n",
      "Subtotal:\n",
      "$22,379.39\n",
      "Discounts (21%):\n",
      "$4,699.67\n",
      "Tax (10%):\n",
      "$1,767.97\n",
      "Shipping:\n",
      "$199.99\n",
      "Total:\n",
      "$19,647.68\n",
      "Amount Paid:\n",
      "$15,000.00\n",
      "Notes:\n",
      "This is a test order. No actual transactions took place.\n",
      "Terms:\n",
      "Delivery scheduled for second week of October 2019.\n",
      "\n",
      "Fetched file 2:output/4869069084488981550/1/office-depot-receipt-0.json\n",
      "Text Data:\n",
      " Office DEPOT\n",
      "OfficeMaxcomo\n",
      "YA LOS GATOS - (408) 356-3757nibuloxe)\n",
      "07/20/2020 5:23 PM\n",
      "s 101 omo\n",
      "te\n",
      "LOILLOL\n",
      "V2VT7XYPQX555YXM6\n",
      "SALE\n",
      "950-1-2020-958724-20.6.2\n",
      "328374\n",
      "MAT, COOL, LAPTP\n",
      "39.99 SS\n",
      "Subtotal: 39.99\n",
      "Sales Tax:\n",
      "3.60\n",
      "onto 43.59\n",
      "Total:\n",
      "Visa 5047:\n",
      "43.59\n",
      "stallse&s\n",
      "AUTH CODE 076243\n",
      "ru beiteitee on etuov !!\n",
      "TDS Chip Read Isipho orldliw ji mute 06\n",
      "AID A0000000031010 CITI VISA lenipho\n",
      "TVR 0800008000 ilgqua esitte ol eysb de midliw\n",
      "reno & in beneqonu lis\n",
      "CVS PIN Verified\n",
      "bns\n",
      "Siswiloa\n",
      "veolonroe)\n",
      "2009\n",
      "TUT\n",
      "e al\n",
      "B\n",
      "no is\n",
      "e vino\n",
      "Shop online at www.officedepot.com doe\n",
      "**\n",
      "****\n",
      "**\n",
      "*****\n",
      "WE WANT TO HEAR FROM YOU!\n",
      "doug\n",
      "Visit survey.officedepot.comsboods\n",
      "and enter the survey code below: viggs\n",
      "tisteb\n",
      "15QQ JNFC W3MH\n",
      "**\n",
      "\n"
     ]
    }
   ],
   "source": [
    "# Display detected text from asynchronous output JSON files\n",
    "for i, blob in enumerate(blob_list):\n",
    "    # If JSON file, download the contents of this blob as a bytes object.\n",
    "    if \".json\" in blob.name:\n",
    "        blob_as_bytes = blob.download_as_bytes()\n",
    "        document = documentai.types.Document.from_json(blob_as_bytes)\n",
    "        print(f\"Fetched file {i + 1}:{blob.name}\")\n",
    "        # print the text data output from the processor\n",
    "        print(f\"Text Data:\\n {document.text}\")\n",
    "    else:\n",
    "        print(f\"Skipping non-supported file type {blob.name}\")"
   ]
  },
  {
   "cell_type": "code",
   "execution_count": 11,
   "metadata": {},
   "outputs": [
    {
     "name": "stdout",
     "output_type": "stream",
     "text": [
      "Fetched file 1:output/4869069084488981550/0/google_invoice-0.json\n",
      "+------------------+-------+------------+\n",
      "|       Type       | Value | Confidence |\n",
      "+------------------+-------+------------+\n",
      "| generic_entities |       |    0.0     |\n",
      "+------------------+-------+------------+\n",
      "Fetched file 2:output/4869069084488981550/1/office-depot-receipt-0.json\n",
      "+------------------+-------+------------+\n",
      "|       Type       | Value | Confidence |\n",
      "+------------------+-------+------------+\n",
      "| generic_entities |       |    0.0     |\n",
      "+------------------+-------+------------+\n"
     ]
    }
   ],
   "source": [
    "# Display entity data from asynchronous output JSON files\n",
    "for i, blob in enumerate(blob_list):\n",
    "    # If JSON file, download the contents of this blob as a bytes object.\n",
    "    if \".json\" in blob.name:\n",
    "        blob_as_bytes = blob.download_as_bytes()\n",
    "        document = documentai.types.Document.from_json(blob_as_bytes)\n",
    "        print(f\"Fetched file {i + 1}:{blob.name}\")\n",
    "        # print the entity data output from the processor\n",
    "        if 'entities' in dir(document):\n",
    "            entities=document.entities\n",
    "            table = PrettyTable(['Type', 'Value', 'Confidence'])\n",
    "            entities_found = 0\n",
    "            for entity in entities:\n",
    "               entity_type = entity.type_\n",
    "               value = entity.mention_text\n",
    "               confidence = round(entity.confidence,4)\n",
    "               table.add_row([entity_type, value, confidence])\n",
    "            print(table)   \n",
    "        else:\n",
    "            print('No entity data returned by the Document AI processor for file'+blob.name)\n",
    "    else:\n",
    "        print(f\"Skipping non-supported file type {blob.name}\")"
   ]
  },
  {
   "cell_type": "code",
   "execution_count": null,
   "metadata": {},
   "outputs": [],
   "source": []
  }
 ],
 "metadata": {
  "colab": {
   "collapsed_sections": [],
   "name": "LendingAI Bouding Boxes v3.ipynb",
   "provenance": [],
   "toc_visible": true
  },
  "environment": {
   "kernel": "conda-base-py",
   "name": "workbench-notebooks.m131",
   "type": "gcloud",
   "uri": "us-docker.pkg.dev/deeplearning-platform-release/gcr.io/workbench-notebooks:m131"
  },
  "kernelspec": {
   "display_name": "Python 3 (ipykernel) (Local)",
   "language": "python",
   "name": "conda-base-py"
  },
  "language_info": {
   "codemirror_mode": {
    "name": "ipython",
    "version": 3
   },
   "file_extension": ".py",
   "mimetype": "text/x-python",
   "name": "python",
   "nbconvert_exporter": "python",
   "pygments_lexer": "ipython3",
   "version": "3.10.18"
  }
 },
 "nbformat": 4,
 "nbformat_minor": 4
}
